{
 "cells": [
  {
   "cell_type": "code",
   "execution_count": 1,
   "id": "5612c0ee",
   "metadata": {},
   "outputs": [],
   "source": [
    "import pandas as pd\n",
    "import sqlite3 as sql\n",
    "import matplotlib.pyplot as plt\n",
    "\n",
    "file_sqlite3='/Users/t-nakajima/Downloads/dockerhub (2).db'\n",
    "\n",
    "with sql.connect(file_sqlite3) as conn:\n",
    "  df_stock = pd.read_sql_query('SELECT * FROM dockerhub', conn)\n",
    "\n",
    "df = pd.DataFrame()\n",
    "\n",
    "df['date'] = pd.to_datetime(df_stock['date']).copy()\n",
    "df['count'] = pd.to_numeric(df_stock['count']).copy()\n",
    "df['name'] = df_stock['name'].copy()\n",
    "\n",
    "df_kata = df[df['name'] == 'irixjp/katacoda']\n",
    "df_lint = df[df['name'] == 'irixjp/lint-rules']"
   ]
  },
  {
   "cell_type": "code",
   "execution_count": 2,
   "id": "a8ef0cce",
   "metadata": {},
   "outputs": [
    {
     "data": {
      "text/plain": [
       "[<matplotlib.lines.Line2D at 0x1262cb610>]"
      ]
     },
     "execution_count": 2,
     "metadata": {},
     "output_type": "execute_result"
    },
    {
     "data": {
      "image/png": "[encoded data removed]",
      "text/plain": [
       "<Figure size 432x288 with 1 Axes>"
      ]
     },
     "metadata": {
      "needs_background": "light"
     },
     "output_type": "display_data"
    }
   ],
   "source": [
    "plt.plot(df_kata['date'], df_kata['count'])"
   ]
  },
  {
   "cell_type": "code",
   "execution_count": 3,
   "id": "2efe704d",
   "metadata": {},
   "outputs": [
    {
     "data": {
      "text/plain": [
       "[<matplotlib.lines.Line2D at 0x12642af70>]"
      ]
     },
     "execution_count": 3,
     "metadata": {},
     "output_type": "execute_result"
    },
    {
     "data": {
      "image/png": "[encoded data removed]",
      "text/plain": [
       "<Figure size 432x288 with 1 Axes>"
      ]
     },
     "metadata": {
      "needs_background": "light"
     },
     "output_type": "display_data"
    }
   ],
   "source": [
    "plt.plot(df_lint['date'], df_lint['count'])"
   ]
  },
  {
   "cell_type": "code",
   "execution_count": 4,
   "id": "57b15cb6",
   "metadata": {},
   "outputs": [
    {
     "data": {
      "text/html": [
       "<div>\n",
       "<style scoped>\n",
       "    .dataframe tbody tr th:only-of-type {\n",
       "        vertical-align: middle;\n",
       "    }\n",
       "\n",
       "    .dataframe tbody tr th {\n",
       "        vertical-align: top;\n",
       "    }\n",
       "\n",
       "    .dataframe thead th {\n",
       "        text-align: right;\n",
       "    }\n",
       "</style>\n",
       "<table border=\"1\" class=\"dataframe\">\n",
       "  <thead>\n",
       "    <tr style=\"text-align: right;\">\n",
       "      <th></th>\n",
       "      <th>kata</th>\n",
       "    </tr>\n",
       "    <tr>\n",
       "      <th>date</th>\n",
       "      <th></th>\n",
       "    </tr>\n",
       "  </thead>\n",
       "  <tbody>\n",
       "    <tr>\n",
       "      <th>2019-05-29 23:42:04</th>\n",
       "      <td>1537</td>\n",
       "    </tr>\n",
       "    <tr>\n",
       "      <th>2019-05-30 09:42:45</th>\n",
       "      <td>1537</td>\n",
       "    </tr>\n",
       "    <tr>\n",
       "      <th>2019-05-31 12:00:09</th>\n",
       "      <td>1539</td>\n",
       "    </tr>\n",
       "    <tr>\n",
       "      <th>2019-06-01 12:58:34</th>\n",
       "      <td>1735</td>\n",
       "    </tr>\n",
       "    <tr>\n",
       "      <th>2019-06-02 12:22:16</th>\n",
       "      <td>1735</td>\n",
       "    </tr>\n",
       "    <tr>\n",
       "      <th>...</th>\n",
       "      <td>...</td>\n",
       "    </tr>\n",
       "    <tr>\n",
       "      <th>2021-10-06 03:30:04</th>\n",
       "      <td>17887</td>\n",
       "    </tr>\n",
       "    <tr>\n",
       "      <th>2021-10-07 03:30:05</th>\n",
       "      <td>17895</td>\n",
       "    </tr>\n",
       "    <tr>\n",
       "      <th>2021-10-08 03:30:04</th>\n",
       "      <td>17943</td>\n",
       "    </tr>\n",
       "    <tr>\n",
       "      <th>2021-10-09 03:30:04</th>\n",
       "      <td>17973</td>\n",
       "    </tr>\n",
       "    <tr>\n",
       "      <th>2021-10-10 03:30:03</th>\n",
       "      <td>17994</td>\n",
       "    </tr>\n",
       "  </tbody>\n",
       "</table>\n",
       "<p>801 rows × 1 columns</p>\n",
       "</div>"
      ],
      "text/plain": [
       "                      kata\n",
       "date                      \n",
       "2019-05-29 23:42:04   1537\n",
       "2019-05-30 09:42:45   1537\n",
       "2019-05-31 12:00:09   1539\n",
       "2019-06-01 12:58:34   1735\n",
       "2019-06-02 12:22:16   1735\n",
       "...                    ...\n",
       "2021-10-06 03:30:04  17887\n",
       "2021-10-07 03:30:05  17895\n",
       "2021-10-08 03:30:04  17943\n",
       "2021-10-09 03:30:04  17973\n",
       "2021-10-10 03:30:03  17994\n",
       "\n",
       "[801 rows x 1 columns]"
      ]
     },
     "execution_count": 4,
     "metadata": {},
     "output_type": "execute_result"
    }
   ],
   "source": [
    "df_kata_1 = pd.DataFrame()\n",
    "df_kata_1['kata'] = df_kata.set_index('date')['count']\n",
    "df_kata_1"
   ]
  },
  {
   "cell_type": "code",
   "execution_count": 5,
   "id": "736c4cec",
   "metadata": {},
   "outputs": [
    {
     "data": {
      "text/html": [
       "<div>\n",
       "<style scoped>\n",
       "    .dataframe tbody tr th:only-of-type {\n",
       "        vertical-align: middle;\n",
       "    }\n",
       "\n",
       "    .dataframe tbody tr th {\n",
       "        vertical-align: top;\n",
       "    }\n",
       "\n",
       "    .dataframe thead th {\n",
       "        text-align: right;\n",
       "    }\n",
       "</style>\n",
       "<table border=\"1\" class=\"dataframe\">\n",
       "  <thead>\n",
       "    <tr style=\"text-align: right;\">\n",
       "      <th></th>\n",
       "      <th>lint</th>\n",
       "    </tr>\n",
       "    <tr>\n",
       "      <th>date</th>\n",
       "      <th></th>\n",
       "    </tr>\n",
       "  </thead>\n",
       "  <tbody>\n",
       "    <tr>\n",
       "      <th>2019-05-29 23:42:03</th>\n",
       "      <td>5125</td>\n",
       "    </tr>\n",
       "    <tr>\n",
       "      <th>2019-05-30 09:42:44</th>\n",
       "      <td>5125</td>\n",
       "    </tr>\n",
       "    <tr>\n",
       "      <th>2019-05-31 12:00:09</th>\n",
       "      <td>5130</td>\n",
       "    </tr>\n",
       "    <tr>\n",
       "      <th>2019-06-01 12:58:33</th>\n",
       "      <td>5196</td>\n",
       "    </tr>\n",
       "    <tr>\n",
       "      <th>2019-06-02 12:22:15</th>\n",
       "      <td>5196</td>\n",
       "    </tr>\n",
       "    <tr>\n",
       "      <th>...</th>\n",
       "      <td>...</td>\n",
       "    </tr>\n",
       "    <tr>\n",
       "      <th>2021-10-06 03:30:04</th>\n",
       "      <td>12236</td>\n",
       "    </tr>\n",
       "    <tr>\n",
       "      <th>2021-10-07 03:30:05</th>\n",
       "      <td>12242</td>\n",
       "    </tr>\n",
       "    <tr>\n",
       "      <th>2021-10-08 03:30:03</th>\n",
       "      <td>12247</td>\n",
       "    </tr>\n",
       "    <tr>\n",
       "      <th>2021-10-09 03:30:04</th>\n",
       "      <td>12247</td>\n",
       "    </tr>\n",
       "    <tr>\n",
       "      <th>2021-10-10 03:30:03</th>\n",
       "      <td>12247</td>\n",
       "    </tr>\n",
       "  </tbody>\n",
       "</table>\n",
       "<p>802 rows × 1 columns</p>\n",
       "</div>"
      ],
      "text/plain": [
       "                      lint\n",
       "date                      \n",
       "2019-05-29 23:42:03   5125\n",
       "2019-05-30 09:42:44   5125\n",
       "2019-05-31 12:00:09   5130\n",
       "2019-06-01 12:58:33   5196\n",
       "2019-06-02 12:22:15   5196\n",
       "...                    ...\n",
       "2021-10-06 03:30:04  12236\n",
       "2021-10-07 03:30:05  12242\n",
       "2021-10-08 03:30:03  12247\n",
       "2021-10-09 03:30:04  12247\n",
       "2021-10-10 03:30:03  12247\n",
       "\n",
       "[802 rows x 1 columns]"
      ]
     },
     "execution_count": 5,
     "metadata": {},
     "output_type": "execute_result"
    }
   ],
   "source": [
    "df_lint_1 = pd.DataFrame()\n",
    "df_lint_1['lint'] = df_lint.set_index('date')['count']\n",
    "df_lint_1"
   ]
  },
  {
   "cell_type": "code",
   "execution_count": 6,
   "id": "272cbe36",
   "metadata": {},
   "outputs": [
    {
     "data": {
      "text/html": [
       "<div>\n",
       "<style scoped>\n",
       "    .dataframe tbody tr th:only-of-type {\n",
       "        vertical-align: middle;\n",
       "    }\n",
       "\n",
       "    .dataframe tbody tr th {\n",
       "        vertical-align: top;\n",
       "    }\n",
       "\n",
       "    .dataframe thead th {\n",
       "        text-align: right;\n",
       "    }\n",
       "</style>\n",
       "<table border=\"1\" class=\"dataframe\">\n",
       "  <thead>\n",
       "    <tr style=\"text-align: right;\">\n",
       "      <th></th>\n",
       "      <th>kata</th>\n",
       "      <th>lint</th>\n",
       "    </tr>\n",
       "  </thead>\n",
       "  <tbody>\n",
       "    <tr>\n",
       "      <th>2019-05-29 23:42:03</th>\n",
       "      <td>NaN</td>\n",
       "      <td>5125.0</td>\n",
       "    </tr>\n",
       "    <tr>\n",
       "      <th>2019-05-29 23:42:04</th>\n",
       "      <td>1537.0</td>\n",
       "      <td>NaN</td>\n",
       "    </tr>\n",
       "    <tr>\n",
       "      <th>2019-05-30 09:42:44</th>\n",
       "      <td>NaN</td>\n",
       "      <td>5125.0</td>\n",
       "    </tr>\n",
       "    <tr>\n",
       "      <th>2019-05-30 09:42:45</th>\n",
       "      <td>1537.0</td>\n",
       "      <td>NaN</td>\n",
       "    </tr>\n",
       "    <tr>\n",
       "      <th>2019-05-31 12:00:09</th>\n",
       "      <td>1539.0</td>\n",
       "      <td>5130.0</td>\n",
       "    </tr>\n",
       "    <tr>\n",
       "      <th>...</th>\n",
       "      <td>...</td>\n",
       "      <td>...</td>\n",
       "    </tr>\n",
       "    <tr>\n",
       "      <th>2021-10-07 03:30:05</th>\n",
       "      <td>17895.0</td>\n",
       "      <td>12242.0</td>\n",
       "    </tr>\n",
       "    <tr>\n",
       "      <th>2021-10-08 03:30:03</th>\n",
       "      <td>NaN</td>\n",
       "      <td>12247.0</td>\n",
       "    </tr>\n",
       "    <tr>\n",
       "      <th>2021-10-08 03:30:04</th>\n",
       "      <td>17943.0</td>\n",
       "      <td>NaN</td>\n",
       "    </tr>\n",
       "    <tr>\n",
       "      <th>2021-10-09 03:30:04</th>\n",
       "      <td>17973.0</td>\n",
       "      <td>12247.0</td>\n",
       "    </tr>\n",
       "    <tr>\n",
       "      <th>2021-10-10 03:30:03</th>\n",
       "      <td>17994.0</td>\n",
       "      <td>12247.0</td>\n",
       "    </tr>\n",
       "  </tbody>\n",
       "</table>\n",
       "<p>1066 rows × 2 columns</p>\n",
       "</div>"
      ],
      "text/plain": [
       "                        kata     lint\n",
       "2019-05-29 23:42:03      NaN   5125.0\n",
       "2019-05-29 23:42:04   1537.0      NaN\n",
       "2019-05-30 09:42:44      NaN   5125.0\n",
       "2019-05-30 09:42:45   1537.0      NaN\n",
       "2019-05-31 12:00:09   1539.0   5130.0\n",
       "...                      ...      ...\n",
       "2021-10-07 03:30:05  17895.0  12242.0\n",
       "2021-10-08 03:30:03      NaN  12247.0\n",
       "2021-10-08 03:30:04  17943.0      NaN\n",
       "2021-10-09 03:30:04  17973.0  12247.0\n",
       "2021-10-10 03:30:03  17994.0  12247.0\n",
       "\n",
       "[1066 rows x 2 columns]"
      ]
     },
     "execution_count": 6,
     "metadata": {},
     "output_type": "execute_result"
    }
   ],
   "source": [
    "df = pd.merge(df_kata_1, df_lint_1, right_index=True, left_index=True, how='outer').sort_index().copy()\n",
    "df.index.name = None\n",
    "df"
   ]
  },
  {
   "cell_type": "code",
   "execution_count": 7,
   "id": "bf83f5d6",
   "metadata": {},
   "outputs": [
    {
     "data": {
      "text/plain": [
       "<AxesSubplot:>"
      ]
     },
     "execution_count": 7,
     "metadata": {},
     "output_type": "execute_result"
    },
    {
     "data": {
      "image/png": "[encoded data removed]",
      "text/plain": [
       "<Figure size 864x576 with 1 Axes>"
      ]
     },
     "metadata": {
      "needs_background": "light"
     },
     "output_type": "display_data"
    }
   ],
   "source": [
    "df.plot(figsize=(12, 8))"
   ]
  },
  {
   "cell_type": "code",
   "execution_count": 61,
   "id": "8af1eb13",
   "metadata": {},
   "outputs": [],
   "source": [
    "import datetime\n",
    "import requests as rq\n",
    "import pandas as pd\n",
    "import matplotlib.pyplot as plt\n",
    "\n",
    "file = 'image_pull_count.pkl.gz'\n",
    "targets = [[\"kata\", \"irixjp/katacoda\"], [\"lint\", \"irixjp/lint-rules\"]]\n",
    "\n",
    "def save_df_to_pkl(df, file):\n",
    "    df.to_pickle(file, compression='gzip')\n",
    "\n",
    "def load_from_pkl(file):\n",
    "    df = pd.read_pickle(file, compression='gzip')\n",
    "    return df.copy()\n",
    "\n",
    "def get_pull_count(image):\n",
    "    ret = rq.get('https://registry.hub.docker.com/v2/repositories/' + image + '/')\n",
    "    json = ret.json()\n",
    "    return pd.to_numeric(json['pull_count'])\n",
    "\n",
    "def make_data(targets):\n",
    "    result = []\n",
    "    \n",
    "    for key, image in targets:\n",
    "        ret = get_pull_count(image)\n",
    "        result.append(ret)\n",
    "\n",
    "    return result\n",
    "\n",
    "def main():\n",
    "    df_orig = load_from_pkl(file)\n",
    "    today_data = make_data(targets)\n",
    "    dt_now = pd.to_datetime(datetime.datetime.now())\n",
    "\n",
    "    df_orig.loc[dt_now] = today_data\n",
    "    save_df_to_pkl(df_orig, file)\n",
    "    \n",
    "    df = df_orig['kata']\n",
    "    plt.figure()\n",
    "    df.plot(figsize=(16, 12))\n",
    "    plt.savefig('kata.png')\n",
    "    plt.close('all')\n",
    "\n",
    "    df = df_orig['lint']\n",
    "    plt.figure()\n",
    "    df.plot(figsize=(16, 12))\n",
    "    plt.savefig('lint.png')\n",
    "    plt.close('all')"
   ]
  },
  {
   "cell_type": "code",
   "execution_count": 62,
   "id": "b71591d6",
   "metadata": {},
   "outputs": [],
   "source": [
    "main()"
   ]
  },
  {
   "cell_type": "code",
   "execution_count": 53,
   "id": "acc8a5e6",
   "metadata": {},
   "outputs": [
    {
     "data": {
      "text/plain": [
       "Timestamp('2021-10-10 22:40:40.637317')"
      ]
     },
     "execution_count": 53,
     "metadata": {},
     "output_type": "execute_result"
    }
   ],
   "source": [
    "dt_now = pd.to_datetime(datetime.datetime.now())\n",
    "dt_now"
   ]
  },
  {
   "cell_type": "code",
   "execution_count": 52,
   "id": "4e68a389",
   "metadata": {},
   "outputs": [
    {
     "data": {
      "text/plain": [
       "[18002, 12247]"
      ]
     },
     "execution_count": 52,
     "metadata": {},
     "output_type": "execute_result"
    }
   ],
   "source": [
    "test = make_data(targets)\n",
    "test"
   ]
  },
  {
   "cell_type": "code",
   "execution_count": 51,
   "id": "46c76d03",
   "metadata": {},
   "outputs": [
    {
     "data": {
      "text/html": [
       "<div>\n",
       "<style scoped>\n",
       "    .dataframe tbody tr th:only-of-type {\n",
       "        vertical-align: middle;\n",
       "    }\n",
       "\n",
       "    .dataframe tbody tr th {\n",
       "        vertical-align: top;\n",
       "    }\n",
       "\n",
       "    .dataframe thead th {\n",
       "        text-align: right;\n",
       "    }\n",
       "</style>\n",
       "<table border=\"1\" class=\"dataframe\">\n",
       "  <thead>\n",
       "    <tr style=\"text-align: right;\">\n",
       "      <th></th>\n",
       "      <th>kata</th>\n",
       "      <th>lint</th>\n",
       "    </tr>\n",
       "  </thead>\n",
       "  <tbody>\n",
       "    <tr>\n",
       "      <th>2019-05-29 23:42:03</th>\n",
       "      <td>NaN</td>\n",
       "      <td>5125.0</td>\n",
       "    </tr>\n",
       "    <tr>\n",
       "      <th>2019-05-29 23:42:04</th>\n",
       "      <td>1537.0</td>\n",
       "      <td>NaN</td>\n",
       "    </tr>\n",
       "    <tr>\n",
       "      <th>2019-05-30 09:42:44</th>\n",
       "      <td>NaN</td>\n",
       "      <td>5125.0</td>\n",
       "    </tr>\n",
       "    <tr>\n",
       "      <th>2019-05-30 09:42:45</th>\n",
       "      <td>1537.0</td>\n",
       "      <td>NaN</td>\n",
       "    </tr>\n",
       "    <tr>\n",
       "      <th>2019-05-31 12:00:09</th>\n",
       "      <td>1539.0</td>\n",
       "      <td>5130.0</td>\n",
       "    </tr>\n",
       "    <tr>\n",
       "      <th>...</th>\n",
       "      <td>...</td>\n",
       "      <td>...</td>\n",
       "    </tr>\n",
       "    <tr>\n",
       "      <th>2021-10-07 03:30:05</th>\n",
       "      <td>17895.0</td>\n",
       "      <td>12242.0</td>\n",
       "    </tr>\n",
       "    <tr>\n",
       "      <th>2021-10-08 03:30:03</th>\n",
       "      <td>NaN</td>\n",
       "      <td>12247.0</td>\n",
       "    </tr>\n",
       "    <tr>\n",
       "      <th>2021-10-08 03:30:04</th>\n",
       "      <td>17943.0</td>\n",
       "      <td>NaN</td>\n",
       "    </tr>\n",
       "    <tr>\n",
       "      <th>2021-10-09 03:30:04</th>\n",
       "      <td>17973.0</td>\n",
       "      <td>12247.0</td>\n",
       "    </tr>\n",
       "    <tr>\n",
       "      <th>2021-10-10 03:30:03</th>\n",
       "      <td>17994.0</td>\n",
       "      <td>12247.0</td>\n",
       "    </tr>\n",
       "  </tbody>\n",
       "</table>\n",
       "<p>1066 rows × 2 columns</p>\n",
       "</div>"
      ],
      "text/plain": [
       "                        kata     lint\n",
       "2019-05-29 23:42:03      NaN   5125.0\n",
       "2019-05-29 23:42:04   1537.0      NaN\n",
       "2019-05-30 09:42:44      NaN   5125.0\n",
       "2019-05-30 09:42:45   1537.0      NaN\n",
       "2019-05-31 12:00:09   1539.0   5130.0\n",
       "...                      ...      ...\n",
       "2021-10-07 03:30:05  17895.0  12242.0\n",
       "2021-10-08 03:30:03      NaN  12247.0\n",
       "2021-10-08 03:30:04  17943.0      NaN\n",
       "2021-10-09 03:30:04  17973.0  12247.0\n",
       "2021-10-10 03:30:03  17994.0  12247.0\n",
       "\n",
       "[1066 rows x 2 columns]"
      ]
     },
     "execution_count": 51,
     "metadata": {},
     "output_type": "execute_result"
    }
   ],
   "source": [
    "df = load_from_pkl(file)\n",
    "df"
   ]
  },
  {
   "cell_type": "code",
   "execution_count": 54,
   "id": "2384e225",
   "metadata": {},
   "outputs": [],
   "source": [
    "df.loc[dt_now] = test"
   ]
  },
  {
   "cell_type": "code",
   "execution_count": 56,
   "id": "6c687935",
   "metadata": {},
   "outputs": [
    {
     "data": {
      "text/plain": [
       "<AxesSubplot:>"
      ]
     },
     "execution_count": 56,
     "metadata": {},
     "output_type": "execute_result"
    },
    {
     "data": {
      "image/png": "[encoded data removed]",
      "text/plain": [
       "<Figure size 864x576 with 1 Axes>"
      ]
     },
     "metadata": {
      "needs_background": "light"
     },
     "output_type": "display_data"
    }
   ],
   "source": [
    "df.plot(figsize=(12, 8))"
   ]
  },
  {
   "cell_type": "code",
   "execution_count": 11,
   "id": "67fc2ff3",
   "metadata": {},
   "outputs": [],
   "source": [
    "save_df_to_pkl(df, file)"
   ]
  },
  {
   "cell_type": "code",
   "execution_count": 12,
   "id": "bcac5fb6",
   "metadata": {},
   "outputs": [
    {
     "data": {
      "text/html": [
       "<div>\n",
       "<style scoped>\n",
       "    .dataframe tbody tr th:only-of-type {\n",
       "        vertical-align: middle;\n",
       "    }\n",
       "\n",
       "    .dataframe tbody tr th {\n",
       "        vertical-align: top;\n",
       "    }\n",
       "\n",
       "    .dataframe thead th {\n",
       "        text-align: right;\n",
       "    }\n",
       "</style>\n",
       "<table border=\"1\" class=\"dataframe\">\n",
       "  <thead>\n",
       "    <tr style=\"text-align: right;\">\n",
       "      <th></th>\n",
       "      <th>kata</th>\n",
       "      <th>lint</th>\n",
       "    </tr>\n",
       "  </thead>\n",
       "  <tbody>\n",
       "    <tr>\n",
       "      <th>2019-05-29 23:42:03</th>\n",
       "      <td>NaN</td>\n",
       "      <td>5125.0</td>\n",
       "    </tr>\n",
       "    <tr>\n",
       "      <th>2019-05-29 23:42:04</th>\n",
       "      <td>1537.0</td>\n",
       "      <td>NaN</td>\n",
       "    </tr>\n",
       "    <tr>\n",
       "      <th>2019-05-30 09:42:44</th>\n",
       "      <td>NaN</td>\n",
       "      <td>5125.0</td>\n",
       "    </tr>\n",
       "    <tr>\n",
       "      <th>2019-05-30 09:42:45</th>\n",
       "      <td>1537.0</td>\n",
       "      <td>NaN</td>\n",
       "    </tr>\n",
       "    <tr>\n",
       "      <th>2019-05-31 12:00:09</th>\n",
       "      <td>1539.0</td>\n",
       "      <td>5130.0</td>\n",
       "    </tr>\n",
       "    <tr>\n",
       "      <th>...</th>\n",
       "      <td>...</td>\n",
       "      <td>...</td>\n",
       "    </tr>\n",
       "    <tr>\n",
       "      <th>2021-10-07 03:30:05</th>\n",
       "      <td>17895.0</td>\n",
       "      <td>12242.0</td>\n",
       "    </tr>\n",
       "    <tr>\n",
       "      <th>2021-10-08 03:30:03</th>\n",
       "      <td>NaN</td>\n",
       "      <td>12247.0</td>\n",
       "    </tr>\n",
       "    <tr>\n",
       "      <th>2021-10-08 03:30:04</th>\n",
       "      <td>17943.0</td>\n",
       "      <td>NaN</td>\n",
       "    </tr>\n",
       "    <tr>\n",
       "      <th>2021-10-09 03:30:04</th>\n",
       "      <td>17973.0</td>\n",
       "      <td>12247.0</td>\n",
       "    </tr>\n",
       "    <tr>\n",
       "      <th>2021-10-10 03:30:03</th>\n",
       "      <td>17994.0</td>\n",
       "      <td>12247.0</td>\n",
       "    </tr>\n",
       "  </tbody>\n",
       "</table>\n",
       "<p>1066 rows × 2 columns</p>\n",
       "</div>"
      ],
      "text/plain": [
       "                        kata     lint\n",
       "2019-05-29 23:42:03      NaN   5125.0\n",
       "2019-05-29 23:42:04   1537.0      NaN\n",
       "2019-05-30 09:42:44      NaN   5125.0\n",
       "2019-05-30 09:42:45   1537.0      NaN\n",
       "2019-05-31 12:00:09   1539.0   5130.0\n",
       "...                      ...      ...\n",
       "2021-10-07 03:30:05  17895.0  12242.0\n",
       "2021-10-08 03:30:03      NaN  12247.0\n",
       "2021-10-08 03:30:04  17943.0      NaN\n",
       "2021-10-09 03:30:04  17973.0  12247.0\n",
       "2021-10-10 03:30:03  17994.0  12247.0\n",
       "\n",
       "[1066 rows x 2 columns]"
      ]
     },
     "execution_count": 12,
     "metadata": {},
     "output_type": "execute_result"
    }
   ],
   "source": [
    "load_from_pkl(file)"
   ]
  },
  {
   "cell_type": "code",
   "execution_count": 59,
   "id": "34d863f9",
   "metadata": {},
   "outputs": [],
   "source": [
    "plt.figure()\n",
    "df.plot(figsize=(16, 12))\n",
    "plt.savefig('pandas_iris_line.png')\n",
    "plt.close('all')"
   ]
  },
  {
   "cell_type": "code",
   "execution_count": 14,
   "id": "f036b230",
   "metadata": {},
   "outputs": [
    {
     "ename": "NameError",
     "evalue": "name 'rq' is not defined",
     "output_type": "error",
     "traceback": [
      "\u001b[0;31m---------------------------------------------------------------------------\u001b[0m",
      "\u001b[0;31mNameError\u001b[0m                                 Traceback (most recent call last)",
      "\u001b[0;32m/var/folders/y7/5vlvr5c564d3h_dvtwvpsnlr0000gn/T/ipykernel_17618/2792209018.py\u001b[0m in \u001b[0;36m<module>\u001b[0;34m\u001b[0m\n\u001b[0;32m----> 1\u001b[0;31m \u001b[0mget_pull_count\u001b[0m\u001b[0;34m(\u001b[0m\u001b[0;34m'irixjp/lint-rules'\u001b[0m\u001b[0;34m)\u001b[0m\u001b[0;34m\u001b[0m\u001b[0;34m\u001b[0m\u001b[0m\n\u001b[0m",
      "\u001b[0;32m/var/folders/y7/5vlvr5c564d3h_dvtwvpsnlr0000gn/T/ipykernel_17618/4125525411.py\u001b[0m in \u001b[0;36mget_pull_count\u001b[0;34m(image)\u001b[0m\n\u001b[1;32m      1\u001b[0m \u001b[0;32mdef\u001b[0m \u001b[0mget_pull_count\u001b[0m\u001b[0;34m(\u001b[0m\u001b[0mimage\u001b[0m\u001b[0;34m)\u001b[0m\u001b[0;34m:\u001b[0m\u001b[0;34m\u001b[0m\u001b[0;34m\u001b[0m\u001b[0m\n\u001b[0;32m----> 2\u001b[0;31m     \u001b[0mret\u001b[0m \u001b[0;34m=\u001b[0m \u001b[0mrq\u001b[0m\u001b[0;34m.\u001b[0m\u001b[0mget\u001b[0m\u001b[0;34m(\u001b[0m\u001b[0;34m'https://registry.hub.docker.com/v2/repositories/'\u001b[0m \u001b[0;34m+\u001b[0m \u001b[0mimage\u001b[0m \u001b[0;34m+\u001b[0m \u001b[0;34m'/'\u001b[0m\u001b[0;34m)\u001b[0m\u001b[0;34m\u001b[0m\u001b[0;34m\u001b[0m\u001b[0m\n\u001b[0m\u001b[1;32m      3\u001b[0m     \u001b[0mjson\u001b[0m \u001b[0;34m=\u001b[0m \u001b[0mret\u001b[0m\u001b[0;34m.\u001b[0m\u001b[0mjson\u001b[0m\u001b[0;34m(\u001b[0m\u001b[0;34m)\u001b[0m\u001b[0;34m\u001b[0m\u001b[0;34m\u001b[0m\u001b[0m\n\u001b[1;32m      4\u001b[0m     \u001b[0;32mreturn\u001b[0m \u001b[0mjson\u001b[0m\u001b[0;34m[\u001b[0m\u001b[0;34m'pull_count'\u001b[0m\u001b[0;34m]\u001b[0m\u001b[0;34m\u001b[0m\u001b[0;34m\u001b[0m\u001b[0m\n",
      "\u001b[0;31mNameError\u001b[0m: name 'rq' is not defined"
     ]
    }
   ],
   "source": [
    "get_pull_count('irixjp/lint-rules')"
   ]
  },
  {
   "cell_type": "code",
   "execution_count": null,
   "id": "3262aa36",
   "metadata": {},
   "outputs": [],
   "source": []
  },
  {
   "cell_type": "code",
   "execution_count": null,
   "id": "d1665650",
   "metadata": {},
   "outputs": [],
   "source": []
  }
 ],
 "metadata": {
  "kernelspec": {
   "display_name": "Python 3 (ipykernel)",
   "language": "python",
   "name": "python3"
  },
  "language_info": {
   "codemirror_mode": {
    "name": "ipython",
    "version": 3
   },
   "file_extension": ".py",
   "mimetype": "text/x-python",
   "name": "python",
   "nbconvert_exporter": "python",
   "pygments_lexer": "ipython3",
   "version": "3.8.12"
  },
  "toc": {
   "base_numbering": 1,
   "nav_menu": {},
   "number_sections": true,
   "sideBar": true,
   "skip_h1_title": false,
   "title_cell": "Table of Contents",
   "title_sidebar": "Contents",
   "toc_cell": false,
   "toc_position": {},
   "toc_section_display": true,
   "toc_window_display": false
  }
 },
 "nbformat": 4,
 "nbformat_minor": 5
}
